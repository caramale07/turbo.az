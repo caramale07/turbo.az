{
 "cells": [
  {
   "cell_type": "markdown",
   "id": "31986c03",
   "metadata": {},
   "source": [
    "# 1. Load dataset"
   ]
  },
  {
   "cell_type": "markdown",
   "id": "abebb5ec",
   "metadata": {},
   "source": [
    "#### In this assignment, you will use a turbo.az dataset which is a collection of cars (Mercedes C-class). It contains information about 1328 cars with features of (Sheher, Marka, Model, Buraxilish ili, Ban novu, Reng, Muherrikin hecmi, Muherrikin gucu, Yanacaq novu, Yurush, Suretler qutusu, Oturucu, Yeni, Qiymet, Extra Information, Seller’s comment). You will need to read the data from data file (turboaz.csv) and extract only 3 columns for your model:\n",
    "X1 - Yurush (mileage)<br>\n",
    "X2 - Buraxilish ili (model year)<br>\n",
    "Y - Qiymet (price)"
   ]
  },
  {
   "cell_type": "code",
   "execution_count": null,
   "id": "4516f5ee",
   "metadata": {},
   "outputs": [],
   "source": [
    "%matplotlib inline\n",
    "import numpy as np\n",
    "import matplotlib.pyplot as plt\n",
    "import pandas as pd\n",
    "from mpl_toolkits.mplot3d import Axes3D"
   ]
  },
  {
   "cell_type": "code",
   "execution_count": null,
   "id": "2f4cfbd9",
   "metadata": {},
   "outputs": [],
   "source": [
    "points = pd.read_csv(\"turboaz.csv\")\n",
    "points.info()"
   ]
  },
  {
   "cell_type": "code",
   "execution_count": null,
   "id": "38345014",
   "metadata": {},
   "outputs": [],
   "source": [
    "x1 = points['Yurush'].apply(lambda x: int(x.rstrip('km').replace(' ', ''))) \n",
    "x2 = points['Buraxilish ili']\n",
    "y = points['Qiymet'].apply(lambda x: float(x.rstrip('$'))*1.7 if '$' in x else float(x.rstrip('AZN')))\n",
    "\n",
    "x1_saved = x1\n",
    "x2_saved = x2\n",
    "y_saved = y"
   ]
  },
  {
   "cell_type": "markdown",
   "id": "c03befe3",
   "metadata": {},
   "source": [
    "# 2. Visualize"
   ]
  },
  {
   "cell_type": "markdown",
   "id": "577cdeb1",
   "metadata": {},
   "source": [
    "#### Using matplotlib library (scatter, Axes3D), you are expected to provide 3 visualizations of data:\n",
    "a) Qiymet (Y) vs Yurush (X1)<br>\n",
    "b) Qiymet (Y) vs Buraxilish ili (X2)<br>\n",
    "c) 3D plot of all three values (Y, X1, X2)<br>"
   ]
  },
  {
   "cell_type": "code",
   "execution_count": null,
   "id": "a4ea0edc",
   "metadata": {},
   "outputs": [],
   "source": [
    "plt.scatter(x1, y)\n",
    "plt.xlabel('Mileage')\n",
    "plt.ylabel('Price')\n",
    "plt.show()\n",
    "\n",
    "plt.scatter(x2, y)\n",
    "plt.xlabel('Production Year')\n",
    "plt.ylabel('Price')\n",
    "plt.show()\n",
    "\n",
    "fig = plt.figure(figsize=(12,12))\n",
    "ax = fig.add_subplot(projection='3d')\n",
    "ax.scatter(x1, x2, y)\n",
    "plt.show()"
   ]
  },
  {
   "cell_type": "markdown",
   "id": "a2ed55f8",
   "metadata": {},
   "source": [
    "# 3. Linear Regresa a mi"
   ]
  },
  {
   "attachments": {
    "image.png": {
     "image/png": "[encoded data removed]"
    }
   },
   "cell_type": "markdown",
   "id": "9cda8e92",
   "metadata": {},
   "source": [
    "#### Implement Linear Regression from scratch (using numpy)\n",
    "a) Calculate cost function. Implement a function which returns cost given true y values, x values and parameters (w).<br>\n",
    "<div><img src=\"attachment:image.png\" width=\"400\"></div>"
   ]
  },
  {
   "cell_type": "code",
   "execution_count": null,
   "id": "b9b2c8da",
   "metadata": {},
   "outputs": [],
   "source": [
    "linear = lambda X, w: X.dot(w)\n",
    "cost_function = lambda loss: np.sum(loss ** 2)/(2 * len(y))"
   ]
  },
  {
   "cell_type": "code",
   "execution_count": null,
   "id": "bfc5adfb",
   "metadata": {},
   "outputs": [],
   "source": [
    "x0 = np.ones(len(x1))\n",
    "X = np.array([x0, x1, x2]).T\n",
    "w = np.array([0, 3, 1], np.float64)  \n",
    "\n",
    "initial_cost = cost_function(linear(X, w) - y)\n",
    "initial_cost"
   ]
  },
  {
   "cell_type": "markdown",
   "id": "d956b616",
   "metadata": {},
   "source": [
    "b) Normalize data using Z score normalization (Recommended).<br>"
   ]
  },
  {
   "cell_type": "code",
   "execution_count": null,
   "id": "1c021a90",
   "metadata": {},
   "outputs": [],
   "source": [
    "x1 = (x1 - x1.mean())/x1.std()\n",
    "x2 = (x2 - x2.mean())/x2.std()\n",
    "y = (y - y.mean())/y.std()\n",
    "X = np.array([x0, x1, x2]).T"
   ]
  },
  {
   "attachments": {
    "image.png": {
     "image/png": "[encoded data removed]"
    }
   },
   "cell_type": "markdown",
   "id": "3051685f",
   "metadata": {},
   "source": [
    "c) Implement gradient descent algorithm to minimize the cost function.\n",
    "- Assign initial values of W=(w0, w1, w2) to zero or choose randomly\n",
    "- Learning rate: alpha=0.001, you can change it in different experiments\n",
    "- Number of iterations: 10000 or you can stop it when two sequential values are too close.\n",
    "- Calculate values of parameters using gradient descent formula.\n",
    "<div><img src=\"attachment:image.png\" width=\"400\"></div>"
   ]
  },
  {
   "cell_type": "code",
   "execution_count": null,
   "id": "a8c64b7f",
   "metadata": {},
   "outputs": [],
   "source": [
    "def gradient_descent(X, y, w, learning_rate, iterations):\n",
    "    cost_log = []\n",
    "    \n",
    "    for iteration in range(iterations):\n",
    "        \n",
    "        h = X.dot(w)\n",
    "        loss = h - y\n",
    "        gradient = X.T.dot(loss) / len(y)\n",
    "        w -= learning_rate * gradient\n",
    "        cost = cost_function(loss)\n",
    "        cost_log.append(cost)\n",
    "        \n",
    "        if (iteration % 1000 == 0) or (iteration == iterations - 1): \n",
    "            print(f\"Iteration {iteration} | Cost {round(cost, 2)}\")\n",
    "\n",
    "    return w, cost_log"
   ]
  },
  {
   "cell_type": "code",
   "execution_count": null,
   "id": "02ecaf69",
   "metadata": {},
   "outputs": [],
   "source": [
    "learning_rate = 0.001\n",
    "iterations = 10000\n",
    "new_weights, cost_log = gradient_descent(X, y, w, learning_rate, iterations)"
   ]
  },
  {
   "cell_type": "code",
   "execution_count": null,
   "id": "bbdccaea",
   "metadata": {},
   "outputs": [],
   "source": [
    "new_weights"
   ]
  },
  {
   "cell_type": "markdown",
   "id": "6f6c4bc9",
   "metadata": {},
   "source": [
    "d) Plot graph of Cost function and describe how it changes over iterations."
   ]
  },
  {
   "cell_type": "code",
   "execution_count": null,
   "id": "5a4cfb84",
   "metadata": {},
   "outputs": [],
   "source": [
    "plt.plot(cost_log)\n",
    "plt.xlabel('Iteration #')\n",
    "plt.ylabel('Cost')\n",
    "plt.title('Cost vs iteration')\n",
    "plt.show()"
   ]
  },
  {
   "cell_type": "markdown",
   "id": "4c7f6ce7",
   "metadata": {},
   "source": [
    "e) Plot points of Y (Qiymet) vs X1 (Buraxilish ili) and draw a line of predictions made with parameters you got from gradient descent."
   ]
  },
  {
   "cell_type": "code",
   "execution_count": null,
   "id": "9dcb87d8",
   "metadata": {},
   "outputs": [],
   "source": [
    "plt.scatter(x2, y)\n",
    "plt.xlabel('Production Year')\n",
    "plt.ylabel('Price')\n",
    "predictions_year = new_weights[0] * x0 + new_weights[2] * x2\n",
    "plt.plot(x2, predictions_year, c='r')\n",
    "plt.show()"
   ]
  },
  {
   "cell_type": "markdown",
   "id": "11998b5e",
   "metadata": {},
   "source": [
    "f) Plot points of Y (Qiymet) vs X2 (Yurush) and draw a line of predictions made with parameters you got from gradient descent."
   ]
  },
  {
   "cell_type": "code",
   "execution_count": null,
   "id": "50ac5600",
   "metadata": {},
   "outputs": [],
   "source": [
    "plt.scatter(x1, y)\n",
    "plt.xlabel('Mileage')\n",
    "plt.ylabel('Price')\n",
    "\n",
    "predictions_mileage = new_weights[0] * x0 + new_weights[1] * x1 \n",
    "plt.plot(x1, predictions_mileage, c='r')\n",
    "plt.show()"
   ]
  },
  {
   "cell_type": "markdown",
   "id": "6a319adc",
   "metadata": {},
   "source": [
    "g) Plot 3D graph of points of Y (Qiymet), X1, X2 and predicted Y (Qiymet) using the same X1 and X2. It should look like this (blue points are true values, red points are predicted values):"
   ]
  },
  {
   "cell_type": "code",
   "execution_count": null,
   "id": "27452f55",
   "metadata": {},
   "outputs": [],
   "source": [
    "fig = plt.figure(figsize=(12, 12))\n",
    "ax = fig.add_subplot(projection='3d')\n",
    "ax.scatter(x1, x2, y, color='b')\n",
    "predictions_3d = new_weights[0] * x0 + new_weights[1] * x1 + new_weights[2] * x2\n",
    "ax.scatter(x1, x2, predictions_3d, c='r')\n",
    "\n",
    "plt.show()"
   ]
  },
  {
   "cell_type": "markdown",
   "id": "28ec2a6b",
   "metadata": {},
   "source": [
    "h) Given are two new cars which are not in the dataset. Predict the prices of these cars by using your parameters and compare your predictions with the actual prices.\n",
    "- Car 1 {Yurush: 240000, Buraxilish ili: 2000, Qiymet: 11500}\n",
    "- Car 2 {Yurush: 415558, Buraxilish ili: 1996, Qiymet: 8800}"
   ]
  },
  {
   "cell_type": "code",
   "execution_count": null,
   "id": "be5f19e4",
   "metadata": {},
   "outputs": [],
   "source": [
    "def predict(X):\n",
    "    x1, x2 = X\n",
    "    x1 = (x1 - x1_saved.mean())/x1_saved.std()\n",
    "    x2 = (x2 - x2_saved.mean())/x2_saved.std()\n",
    "    prediction = new_weights[0] * 1 + new_weights[1] * x1 + new_weights[2] * x2\n",
    "    return prediction * y_saved.std() + y_saved.mean()"
   ]
  },
  {
   "cell_type": "code",
   "execution_count": null,
   "id": "557ab405",
   "metadata": {},
   "outputs": [],
   "source": [
    "X_test = [[240000, 2000], [415558, 1996]]\n",
    "y_test = [11500, 8800]\n",
    "\n",
    "print(f\"Car #1: Prediction: {round(predict(X_test[0]), 2)} | Actual: 11500\")\n",
    "print(f\"Car #2: Prediction: {round(predict(X_test[1]), 2)} | Actual: 8800\")"
   ]
  },
  {
   "cell_type": "markdown",
   "id": "020536e6",
   "metadata": {},
   "source": [
    "# 4. Linear Regression using library"
   ]
  },
  {
   "cell_type": "markdown",
   "id": "b75b863e",
   "metadata": {},
   "source": [
    "#### Use a library to fit perform linear regression on the data. You should use the same features (Yurush and Buraxilish ili) as input to this model and perform the same testing (3(h)) as above (using scikit-learn library is recommended)."
   ]
  },
  {
   "cell_type": "code",
   "execution_count": null,
   "id": "4865633d",
   "metadata": {},
   "outputs": [],
   "source": [
    "from sklearn import linear_model\n",
    "regressor = linear_model.LinearRegression()\n",
    "regressor.fit(X[:, 1:], y)"
   ]
  },
  {
   "cell_type": "code",
   "execution_count": null,
   "id": "28d7947a",
   "metadata": {},
   "outputs": [],
   "source": [
    "def predict_lr(X):\n",
    "    x1, x2 = X\n",
    "    x1 = (x1 - x1_saved.mean())/x1_saved.std()\n",
    "    x2 = (x2 - x2_saved.mean())/x2_saved.std()\n",
    "    prediction = regressor.predict(np.array([[x1, x2]]))\n",
    "    return prediction[0] * y_saved.std() + y_saved.mean()"
   ]
  },
  {
   "cell_type": "code",
   "execution_count": null,
   "id": "bb8940f5",
   "metadata": {},
   "outputs": [],
   "source": [
    "print('Coefficients: \\n', regressor.coef_)\n",
    "print(f\"Car #1: Prediction: {round(predict_lr(X_test[0]), 2)} | Actual: 11500\")\n",
    "print(f\"Car #2: Prediction: {round(predict_lr(X_test[1]), 2)} | Actual: 8800\")"
   ]
  },
  {
   "cell_type": "code",
   "execution_count": null,
   "id": "c36ffe8a",
   "metadata": {},
   "outputs": [],
   "source": []
  }
 ],
 "metadata": {
  "kernelspec": {
   "display_name": "Python 3",
   "language": "python",
   "name": "python3"
  },
  "language_info": {
   "codemirror_mode": {
    "name": "ipython",
    "version": 3
   },
   "file_extension": ".py",
   "mimetype": "text/x-python",
   "name": "python",
   "nbconvert_exporter": "python",
   "pygments_lexer": "ipython3",
   "version": "3.8.8"
  }
 },
 "nbformat": 4,
 "nbformat_minor": 5
}
